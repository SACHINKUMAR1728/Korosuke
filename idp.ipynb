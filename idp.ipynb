{
 "cells": [
  {
   "cell_type": "code",
   "execution_count": null,
   "metadata": {},
   "outputs": [],
   "source": [
    "from langchain_community.document_loaders import PyPDFDirectoryLoader\n",
    "from dotenv import load_dotenv\n",
    "load_dotenv()\n",
    "\n",
    "loader = PyPDFDirectoryLoader('data/')\n",
    "documents = loader.load()"
   ]
  },
  {
   "cell_type": "markdown",
   "metadata": {},
   "source": []
  },
  {
   "cell_type": "code",
   "execution_count": 5,
   "metadata": {},
   "outputs": [
    {
     "name": "stdout",
     "output_type": "stream",
     "text": [
      "[Document(metadata={'source': 'data\\\\Student Council 2023-24-Roles and responsibilities.pdf', 'page': 0}, page_content='Student  Council  2023-24 \\n \\nWhat’s  Student  Council?  \\n \\nA Student  Council  is a representative  structure  through  which  students  in the college  can become  \\ninvolved  in the  affairs of  the college,  working in  partnership with  the management, staff  and \\nstudents for the benefit of the college and its students.  \\nWhy have a Student Council?  \\nThe Student Council is an increasingly common feature in many colleges and has worked to the  \\nbenefit of the institutes. Students have a valuable contribution to make to the betterment  of their  \\ncollege and their involvement in the operation of the college is itself a valuable part of the  \\neducation process for the students. A Student Council provides an opportunity for students to  \\nengage in a structured partnership with teachers, students and management in the operation of  \\ntheir college. Student Councils can create a sense of ownership of the college and its activities  \\namong the student population.  The establishment of a Student Council gives students an  \\nopportunity  to acquire  the sort of communication,  planning  and organizational  skills  which  will \\nbe of benefit to them in their future lives.  \\n \\nThe role of the Student Council  \\n \\nA Student Council will set its own objectives. Some general objectives could include:  \\n \\n● To enhance  communication  between  students,  management  and staff \\n● To promote  an environment  conducive  to educational  and personal  development  \\n● To promote  friendship  and respect  among  pupils  \\n● To support  the management  and staff in the development  of the college  \\n● To represent  the views  of the students  on matters  of general  concern  to them  \\n \\nA Student Council will  identify activities that  it would like  to be involved  in organizing,  \\nalthough the final decision on the activities of a Student Council should be agreed with college  \\nmanagement.  \\n \\nWhat’s  in for you?  \\n \\n1. Ability to improve your soft skills that are essential for your career and future.  \\n2. Chance to improve your leadership skills and discover your hidden talents.  '), Document(metadata={'source': 'data\\\\Student Council 2023-24-Roles and responsibilities.pdf', 'page': 1}, page_content='3. At the end of your tenure,  you receive  an experience  certificate  for being  an office  bearer  \\nwhich  would play  a major role  in your  CV. \\n4. The star performers, on the basis of the contribution, will be recognized and awarded.  \\n5. Learn the skill of being a team player - crucial for success.  \\n6. Opportunity  to plan,  coordinate,  and organize  events,  all the while  networking  at different  \\nlevels.  \\n7. Chance  to contribute  your suggestions  or opinions  for the betterment  of the university.  \\n \\nCode of Conduct:  \\n \\n1. The selected council members should not have any disciplinary in fraction taken against  \\nthem.  \\n2. At any given point of time, if members are not up to the mark or delivering as expected,  \\nthey can be terminated from their position.  \\n3. At any point of time, members will not use the name or logo of the university for any  \\npersonal  use. \\n4. Members must follow the rules & regulations of the university and are expected to work  \\nfor the betterment of the fellow students.  \\n5. On any account, members will bring any issue to the notice of the council members and  \\nstudent  affairs department where c ollectively a decision will  be made.  \\n6. Members will not be biased towards anyone and instead will be fair to fellow members  \\nand students.  \\n7. At any point, the members cannot abuse the position given.  \\n8. Confidentiality should be maintained in the council.  \\n9. Council members should necessarily work in a team.  \\n10. Any important decisions taken by the council should have the approval or consent of all  \\nmembers.  \\n \\nStructure  of Student  Council  \\n \\n \\n'), Document(metadata={'source': 'data\\\\Student Council 2023-24-Roles and responsibilities.pdf', 'page': 2}, page_content=\"President  (3rd/4th  Year)  \\n● The President  has an active  role in the university,  representing  the student  council  to the \\nuniversity and the students.  \\n● The President should  be able to  represent any difficulties  or issues of  the student.  \\n● The President is responsible for coordinating all student council activities and meetings.  \\n● The President,  with the Vice-President,  prepares  the agenda  for each meeting  and makes  \\nsure that the agenda is fulfilled.  \\n● Responsible for the betterment of the council, students, and the university as a whole.  \\n \\n \\nVice -President  (2nd -4th Years)  \\n● Similar  to the President,  the Vice-President  is representative  of the students  and the \\nstudent council.  \\n● The Vice-President  is in charge  of the workings  of the five wings  of the council,  and if a \\nwing leader is unavailable, s/he takes ownership of said wing leader's responsibilities.  \\n● The Vice-President  steps  in when  the president  is unavailable  to preside  over meetings.  \\n \\nGeneral  Secretary  (2nd -4th Years)  \\n● The General Secretary aids in the overall planning, implementation, and execution of  \\nactivities conducted by the Council.  \\n● Contribute  unique  ideas  to address  collegiate  issues  with the President,  Vice President,  \\nand the rest of the Council.  \\n● Responsible for taking attendance at general meetings/activities, maintaining meeting  \\nminutes, and ensuring the smooth running of  said meetings.  \\n \\nTreasurer  (2nd -4th Years)  \\n● Assisting in the leadership responsibilities similar to the previous three roles.  \\n● Managing the various wings with their respective works.  \\n● The Treasurer  is in charge  of maintaining  the student  council  expenses  and furnishing  \\nthem  through the department of student affairs.  \\n● Fundraising  accounts  are managed  and updated  to the department  of student  affairs  by the \\ntreasurer,  who must ensure  all funds are  used responsibly and  per the budget.  \\n \\nWing  Leaders  (Conveners)  \\n● Wing  Leaders  are responsible  for giving  updates  to the core committee  on work  progress,  \\nand, if necessary,  conducting  separate  meetings  with their team  to carry  out functions.  \\n● All Wing  Leaders  should  coordinate  with the core committee  while  planning  for the \\nevents.  \\n● Responsible for leading the wings and fulfilling the respective responsibilities.  \"), Document(metadata={'source': 'data\\\\Student Council 2023-24-Roles and responsibilities.pdf', 'page': 3}, page_content='Wings  Responsibilities:  \\n \\n★ Public Relations  \\n● Support in handling social media accounts of the council.  \\n● Gathering student body details of various colleges & universities to build  \\nrelations.  \\n● Responsible  for the promotion  of events  happening  in university,  gathering  \\naudience.  \\n● Responsible for collecting & sharing information on events happening in  \\nother colleges or universities nearby/online.  \\n● Invite Guests/Speake rs when needed.  \\n● Reach out to sponsors.  \\n● Responsible  for conducting  Town  Hall Sessions.  \\n● Collect  & share  student  issues  with the Department  of Student  Affairs  for \\nfurther action (Academic & Non -Academic).  \\n● Communicate information on the issues solved with the students.  \\n● Brainstorm new solutions for the issues that are hard or impossible to  \\nresolve.  \\n \\n★ Events  \\n● Responsible for planning events as scheduled.  \\n● Organize  events  to ensure  the seamlessness  and functionality  of said \\nevent.  \\n● Coordinate with Guests/Speakers as  needed.  \\n● Fix the prizes to be allocated.  \\n● Discuss with the clubs to plan activities for the events.  \\n● Update the counterpart wings.  \\n● Prepare the details and ideas for each event.  \\n● Maintain a group of anchors and coordinate with them for events  \\n \\n★ Writers  Co. \\n● Responsible for all the write -ups required at any time for any work related  \\nto the council. (Mails, Flyers, Documentation needed for events, Social  \\nMedia, etc)  \\n● Create Google Forms for council activities.  \\n● Stay in touch  with the other  Teams  - Design  & PR to help them  \\naccomplish written tasks.  \\n● Compose monthly or yearly reports on the events of the Student Council  \\nas and when required.  \\n \\n★ Design  '), Document(metadata={'source': 'data\\\\Student Council 2023-24-Roles and responsibilities.pdf', 'page': 4}, page_content='● Design the logos, flyers, and certificates according to the requirements  \\ngiven by respective teams.  \\n● Share knowledge and help teammates.  \\n● Design the posters for all special days and occasions (some to be posted  \\non social media).  ')]\n"
     ]
    }
   ],
   "source": [
    "print(documents)\n",
    "# print(documents[0].page_content)"
   ]
  },
  {
   "cell_type": "code",
   "execution_count": 6,
   "metadata": {},
   "outputs": [],
   "source": [
    "from langchain.text_splitter import CharacterTextSplitter\n",
    "\n",
    "text_splitter = CharacterTextSplitter(\n",
    "    separator=\"\\n\\n\",\n",
    "    chunk_size=100,\n",
    "    chunk_overlap=10,\n",
    "    length_function=len,\n",
    "    is_separator_regex=False,\n",
    ")"
   ]
  },
  {
   "cell_type": "code",
   "execution_count": 7,
   "metadata": {},
   "outputs": [
    {
     "data": {
      "text/plain": [
       "[Document(metadata={'source': 'data\\\\Student Council 2023-24-Roles and responsibilities.pdf', 'page': 0}, page_content='Student  Council  2023-24 \\n \\nWhat’s  Student  Council?  \\n \\nA Student  Council  is a representative  structure  through  which  students  in the college  can become  \\ninvolved  in the  affairs of  the college,  working in  partnership with  the management, staff  and \\nstudents for the benefit of the college and its students.  \\nWhy have a Student Council?  \\nThe Student Council is an increasingly common feature in many colleges and has worked to the  \\nbenefit of the institutes. Students have a valuable contribution to make to the betterment  of their  \\ncollege and their involvement in the operation of the college is itself a valuable part of the  \\neducation process for the students. A Student Council provides an opportunity for students to  \\nengage in a structured partnership with teachers, students and management in the operation of  \\ntheir college. Student Councils can create a sense of ownership of the college and its activities  \\namong the student population.  The establishment of a Student Council gives students an  \\nopportunity  to acquire  the sort of communication,  planning  and organizational  skills  which  will \\nbe of benefit to them in their future lives.  \\n \\nThe role of the Student Council  \\n \\nA Student Council will set its own objectives. Some general objectives could include:  \\n \\n● To enhance  communication  between  students,  management  and staff \\n● To promote  an environment  conducive  to educational  and personal  development  \\n● To promote  friendship  and respect  among  pupils  \\n● To support  the management  and staff in the development  of the college  \\n● To represent  the views  of the students  on matters  of general  concern  to them  \\n \\nA Student Council will  identify activities that  it would like  to be involved  in organizing,  \\nalthough the final decision on the activities of a Student Council should be agreed with college  \\nmanagement.  \\n \\nWhat’s  in for you?  \\n \\n1. Ability to improve your soft skills that are essential for your career and future.  \\n2. Chance to improve your leadership skills and discover your hidden talents.'),\n",
       " Document(metadata={'source': 'data\\\\Student Council 2023-24-Roles and responsibilities.pdf', 'page': 1}, page_content='3. At the end of your tenure,  you receive  an experience  certificate  for being  an office  bearer  \\nwhich  would play  a major role  in your  CV. \\n4. The star performers, on the basis of the contribution, will be recognized and awarded.  \\n5. Learn the skill of being a team player - crucial for success.  \\n6. Opportunity  to plan,  coordinate,  and organize  events,  all the while  networking  at different  \\nlevels.  \\n7. Chance  to contribute  your suggestions  or opinions  for the betterment  of the university.  \\n \\nCode of Conduct:  \\n \\n1. The selected council members should not have any disciplinary in fraction taken against  \\nthem.  \\n2. At any given point of time, if members are not up to the mark or delivering as expected,  \\nthey can be terminated from their position.  \\n3. At any point of time, members will not use the name or logo of the university for any  \\npersonal  use. \\n4. Members must follow the rules & regulations of the university and are expected to work  \\nfor the betterment of the fellow students.  \\n5. On any account, members will bring any issue to the notice of the council members and  \\nstudent  affairs department where c ollectively a decision will  be made.  \\n6. Members will not be biased towards anyone and instead will be fair to fellow members  \\nand students.  \\n7. At any point, the members cannot abuse the position given.  \\n8. Confidentiality should be maintained in the council.  \\n9. Council members should necessarily work in a team.  \\n10. Any important decisions taken by the council should have the approval or consent of all  \\nmembers.  \\n \\nStructure  of Student  Council'),\n",
       " Document(metadata={'source': 'data\\\\Student Council 2023-24-Roles and responsibilities.pdf', 'page': 2}, page_content=\"President  (3rd/4th  Year)  \\n● The President  has an active  role in the university,  representing  the student  council  to the \\nuniversity and the students.  \\n● The President should  be able to  represent any difficulties  or issues of  the student.  \\n● The President is responsible for coordinating all student council activities and meetings.  \\n● The President,  with the Vice-President,  prepares  the agenda  for each meeting  and makes  \\nsure that the agenda is fulfilled.  \\n● Responsible for the betterment of the council, students, and the university as a whole.  \\n \\n \\nVice -President  (2nd -4th Years)  \\n● Similar  to the President,  the Vice-President  is representative  of the students  and the \\nstudent council.  \\n● The Vice-President  is in charge  of the workings  of the five wings  of the council,  and if a \\nwing leader is unavailable, s/he takes ownership of said wing leader's responsibilities.  \\n● The Vice-President  steps  in when  the president  is unavailable  to preside  over meetings.  \\n \\nGeneral  Secretary  (2nd -4th Years)  \\n● The General Secretary aids in the overall planning, implementation, and execution of  \\nactivities conducted by the Council.  \\n● Contribute  unique  ideas  to address  collegiate  issues  with the President,  Vice President,  \\nand the rest of the Council.  \\n● Responsible for taking attendance at general meetings/activities, maintaining meeting  \\nminutes, and ensuring the smooth running of  said meetings.  \\n \\nTreasurer  (2nd -4th Years)  \\n● Assisting in the leadership responsibilities similar to the previous three roles.  \\n● Managing the various wings with their respective works.  \\n● The Treasurer  is in charge  of maintaining  the student  council  expenses  and furnishing  \\nthem  through the department of student affairs.  \\n● Fundraising  accounts  are managed  and updated  to the department  of student  affairs  by the \\ntreasurer,  who must ensure  all funds are  used responsibly and  per the budget.  \\n \\nWing  Leaders  (Conveners)  \\n● Wing  Leaders  are responsible  for giving  updates  to the core committee  on work  progress,  \\nand, if necessary,  conducting  separate  meetings  with their team  to carry  out functions.  \\n● All Wing  Leaders  should  coordinate  with the core committee  while  planning  for the \\nevents.  \\n● Responsible for leading the wings and fulfilling the respective responsibilities.\"),\n",
       " Document(metadata={'source': 'data\\\\Student Council 2023-24-Roles and responsibilities.pdf', 'page': 3}, page_content='Wings  Responsibilities:  \\n \\n★ Public Relations  \\n● Support in handling social media accounts of the council.  \\n● Gathering student body details of various colleges & universities to build  \\nrelations.  \\n● Responsible  for the promotion  of events  happening  in university,  gathering  \\naudience.  \\n● Responsible for collecting & sharing information on events happening in  \\nother colleges or universities nearby/online.  \\n● Invite Guests/Speake rs when needed.  \\n● Reach out to sponsors.  \\n● Responsible  for conducting  Town  Hall Sessions.  \\n● Collect  & share  student  issues  with the Department  of Student  Affairs  for \\nfurther action (Academic & Non -Academic).  \\n● Communicate information on the issues solved with the students.  \\n● Brainstorm new solutions for the issues that are hard or impossible to  \\nresolve.  \\n \\n★ Events  \\n● Responsible for planning events as scheduled.  \\n● Organize  events  to ensure  the seamlessness  and functionality  of said \\nevent.  \\n● Coordinate with Guests/Speakers as  needed.  \\n● Fix the prizes to be allocated.  \\n● Discuss with the clubs to plan activities for the events.  \\n● Update the counterpart wings.  \\n● Prepare the details and ideas for each event.  \\n● Maintain a group of anchors and coordinate with them for events  \\n \\n★ Writers  Co. \\n● Responsible for all the write -ups required at any time for any work related  \\nto the council. (Mails, Flyers, Documentation needed for events, Social  \\nMedia, etc)  \\n● Create Google Forms for council activities.  \\n● Stay in touch  with the other  Teams  - Design  & PR to help them  \\naccomplish written tasks.  \\n● Compose monthly or yearly reports on the events of the Student Council  \\nas and when required.  \\n \\n★ Design'),\n",
       " Document(metadata={'source': 'data\\\\Student Council 2023-24-Roles and responsibilities.pdf', 'page': 4}, page_content='● Design the logos, flyers, and certificates according to the requirements  \\ngiven by respective teams.  \\n● Share knowledge and help teammates.  \\n● Design the posters for all special days and occasions (some to be posted  \\non social media).')]"
      ]
     },
     "execution_count": 7,
     "metadata": {},
     "output_type": "execute_result"
    }
   ],
   "source": [
    "chunks = text_splitter.split_documents(documents)\n",
    "chunks\n",
    "# chunks[7]\n"
   ]
  },
  {
   "cell_type": "code",
   "execution_count": 8,
   "metadata": {},
   "outputs": [
    {
     "name": "stderr",
     "output_type": "stream",
     "text": [
      "OllamaEmbeddings: 100%|██████████| 5/5 [00:25<00:00,  5.06s/it]\n"
     ]
    }
   ],
   "source": [
    "from langchain_community.embeddings import OllamaEmbeddings\n",
    "\n",
    "from langchain_community.vectorstores import Chroma\n",
    "# from langchain_community.llms import Ollama\n",
    "\n",
    "# llm = Ollama(model=\"llama3\")\n",
    "\n",
    "index = Chroma.from_documents(chunks, OllamaEmbeddings(model=\"nomic-embed-text:latest \",show_progress=True))\n"
   ]
  },
  {
   "cell_type": "code",
   "execution_count": 9,
   "metadata": {},
   "outputs": [],
   "source": [
    "retriever = index.as_retriever()"
   ]
  },
  {
   "cell_type": "code",
   "execution_count": 10,
   "metadata": {},
   "outputs": [
    {
     "name": "stderr",
     "output_type": "stream",
     "text": [
      "C:\\Users\\Sachin\\AppData\\Local\\Packages\\PythonSoftwareFoundation.Python.3.11_qbz5n2kfra8p0\\LocalCache\\local-packages\\Python311\\site-packages\\langchain_core\\_api\\deprecation.py:139: LangChainDeprecationWarning: The method `BaseRetriever.get_relevant_documents` was deprecated in langchain-core 0.1.46 and will be removed in 0.3.0. Use invoke instead.\n",
      "  warn_deprecated(\n",
      "OllamaEmbeddings: 100%|██████████| 1/1 [00:02<00:00,  2.19s/it]\n"
     ]
    },
    {
     "data": {
      "text/plain": [
       "[Document(metadata={'page': 0, 'source': 'data\\\\Student Council 2023-24-Roles and responsibilities.pdf'}, page_content='Student  Council  2023-24 \\n \\nWhat’s  Student  Council?  \\n \\nA Student  Council  is a representative  structure  through  which  students  in the college  can become  \\ninvolved  in the  affairs of  the college,  working in  partnership with  the management, staff  and \\nstudents for the benefit of the college and its students.  \\nWhy have a Student Council?  \\nThe Student Council is an increasingly common feature in many colleges and has worked to the  \\nbenefit of the institutes. Students have a valuable contribution to make to the betterment  of their  \\ncollege and their involvement in the operation of the college is itself a valuable part of the  \\neducation process for the students. A Student Council provides an opportunity for students to  \\nengage in a structured partnership with teachers, students and management in the operation of  \\ntheir college. Student Councils can create a sense of ownership of the college and its activities  \\namong the student population.  The establishment of a Student Council gives students an  \\nopportunity  to acquire  the sort of communication,  planning  and organizational  skills  which  will \\nbe of benefit to them in their future lives.  \\n \\nThe role of the Student Council  \\n \\nA Student Council will set its own objectives. Some general objectives could include:  \\n \\n● To enhance  communication  between  students,  management  and staff \\n● To promote  an environment  conducive  to educational  and personal  development  \\n● To promote  friendship  and respect  among  pupils  \\n● To support  the management  and staff in the development  of the college  \\n● To represent  the views  of the students  on matters  of general  concern  to them  \\n \\nA Student Council will  identify activities that  it would like  to be involved  in organizing,  \\nalthough the final decision on the activities of a Student Council should be agreed with college  \\nmanagement.  \\n \\nWhat’s  in for you?  \\n \\n1. Ability to improve your soft skills that are essential for your career and future.  \\n2. Chance to improve your leadership skills and discover your hidden talents.'),\n",
       " Document(metadata={'page': 1, 'source': 'data\\\\Student Council 2023-24-Roles and responsibilities.pdf'}, page_content='3. At the end of your tenure,  you receive  an experience  certificate  for being  an office  bearer  \\nwhich  would play  a major role  in your  CV. \\n4. The star performers, on the basis of the contribution, will be recognized and awarded.  \\n5. Learn the skill of being a team player - crucial for success.  \\n6. Opportunity  to plan,  coordinate,  and organize  events,  all the while  networking  at different  \\nlevels.  \\n7. Chance  to contribute  your suggestions  or opinions  for the betterment  of the university.  \\n \\nCode of Conduct:  \\n \\n1. The selected council members should not have any disciplinary in fraction taken against  \\nthem.  \\n2. At any given point of time, if members are not up to the mark or delivering as expected,  \\nthey can be terminated from their position.  \\n3. At any point of time, members will not use the name or logo of the university for any  \\npersonal  use. \\n4. Members must follow the rules & regulations of the university and are expected to work  \\nfor the betterment of the fellow students.  \\n5. On any account, members will bring any issue to the notice of the council members and  \\nstudent  affairs department where c ollectively a decision will  be made.  \\n6. Members will not be biased towards anyone and instead will be fair to fellow members  \\nand students.  \\n7. At any point, the members cannot abuse the position given.  \\n8. Confidentiality should be maintained in the council.  \\n9. Council members should necessarily work in a team.  \\n10. Any important decisions taken by the council should have the approval or consent of all  \\nmembers.  \\n \\nStructure  of Student  Council'),\n",
       " Document(metadata={'page': 2, 'source': 'data\\\\Student Council 2023-24-Roles and responsibilities.pdf'}, page_content=\"President  (3rd/4th  Year)  \\n● The President  has an active  role in the university,  representing  the student  council  to the \\nuniversity and the students.  \\n● The President should  be able to  represent any difficulties  or issues of  the student.  \\n● The President is responsible for coordinating all student council activities and meetings.  \\n● The President,  with the Vice-President,  prepares  the agenda  for each meeting  and makes  \\nsure that the agenda is fulfilled.  \\n● Responsible for the betterment of the council, students, and the university as a whole.  \\n \\n \\nVice -President  (2nd -4th Years)  \\n● Similar  to the President,  the Vice-President  is representative  of the students  and the \\nstudent council.  \\n● The Vice-President  is in charge  of the workings  of the five wings  of the council,  and if a \\nwing leader is unavailable, s/he takes ownership of said wing leader's responsibilities.  \\n● The Vice-President  steps  in when  the president  is unavailable  to preside  over meetings.  \\n \\nGeneral  Secretary  (2nd -4th Years)  \\n● The General Secretary aids in the overall planning, implementation, and execution of  \\nactivities conducted by the Council.  \\n● Contribute  unique  ideas  to address  collegiate  issues  with the President,  Vice President,  \\nand the rest of the Council.  \\n● Responsible for taking attendance at general meetings/activities, maintaining meeting  \\nminutes, and ensuring the smooth running of  said meetings.  \\n \\nTreasurer  (2nd -4th Years)  \\n● Assisting in the leadership responsibilities similar to the previous three roles.  \\n● Managing the various wings with their respective works.  \\n● The Treasurer  is in charge  of maintaining  the student  council  expenses  and furnishing  \\nthem  through the department of student affairs.  \\n● Fundraising  accounts  are managed  and updated  to the department  of student  affairs  by the \\ntreasurer,  who must ensure  all funds are  used responsibly and  per the budget.  \\n \\nWing  Leaders  (Conveners)  \\n● Wing  Leaders  are responsible  for giving  updates  to the core committee  on work  progress,  \\nand, if necessary,  conducting  separate  meetings  with their team  to carry  out functions.  \\n● All Wing  Leaders  should  coordinate  with the core committee  while  planning  for the \\nevents.  \\n● Responsible for leading the wings and fulfilling the respective responsibilities.\"),\n",
       " Document(metadata={'page': 3, 'source': 'data\\\\Student Council 2023-24-Roles and responsibilities.pdf'}, page_content='Wings  Responsibilities:  \\n \\n★ Public Relations  \\n● Support in handling social media accounts of the council.  \\n● Gathering student body details of various colleges & universities to build  \\nrelations.  \\n● Responsible  for the promotion  of events  happening  in university,  gathering  \\naudience.  \\n● Responsible for collecting & sharing information on events happening in  \\nother colleges or universities nearby/online.  \\n● Invite Guests/Speake rs when needed.  \\n● Reach out to sponsors.  \\n● Responsible  for conducting  Town  Hall Sessions.  \\n● Collect  & share  student  issues  with the Department  of Student  Affairs  for \\nfurther action (Academic & Non -Academic).  \\n● Communicate information on the issues solved with the students.  \\n● Brainstorm new solutions for the issues that are hard or impossible to  \\nresolve.  \\n \\n★ Events  \\n● Responsible for planning events as scheduled.  \\n● Organize  events  to ensure  the seamlessness  and functionality  of said \\nevent.  \\n● Coordinate with Guests/Speakers as  needed.  \\n● Fix the prizes to be allocated.  \\n● Discuss with the clubs to plan activities for the events.  \\n● Update the counterpart wings.  \\n● Prepare the details and ideas for each event.  \\n● Maintain a group of anchors and coordinate with them for events  \\n \\n★ Writers  Co. \\n● Responsible for all the write -ups required at any time for any work related  \\nto the council. (Mails, Flyers, Documentation needed for events, Social  \\nMedia, etc)  \\n● Create Google Forms for council activities.  \\n● Stay in touch  with the other  Teams  - Design  & PR to help them  \\naccomplish written tasks.  \\n● Compose monthly or yearly reports on the events of the Student Council  \\nas and when required.  \\n \\n★ Design')]"
      ]
     },
     "execution_count": 10,
     "metadata": {},
     "output_type": "execute_result"
    }
   ],
   "source": [
    "retriever.get_relevant_documents(\"what is student council?\")"
   ]
  },
  {
   "cell_type": "code",
   "execution_count": 11,
   "metadata": {},
   "outputs": [],
   "source": [
    "from operator import itemgetter\n",
    "\n",
    "template = \"\"\"\n",
    "\n",
    "Answer the following question:\n",
    "Question: {question}\n",
    "\n",
    "Answer the question based only on the following context:\n",
    "{context}\n",
    "\n",
    "\"\"\""
   ]
  },
  {
   "cell_type": "code",
   "execution_count": 15,
   "metadata": {},
   "outputs": [],
   "source": [
    "from langchain_core.output_parsers import StrOutputParser\n",
    "from langchain_core.prompts import ChatPromptTemplate\n",
    "# from langchain_openai import ChatOpenAI\n",
    "from langchain_community.llms import Ollama\n",
    "\n",
    "prompt = ChatPromptTemplate.from_template(template)\n",
    "model = Ollama(model=\"llama3:latest\")"
   ]
  },
  {
   "cell_type": "code",
   "execution_count": 16,
   "metadata": {},
   "outputs": [],
   "source": [
    "rag_chain = (\n",
    "    {\n",
    "        \"context\": itemgetter(\"question\") | retriever,\n",
    "        \"question\": itemgetter(\"question\")\n",
    "    }\n",
    "    | prompt\n",
    "    | model\n",
    "    | StrOutputParser()\n",
    ")"
   ]
  },
  {
   "cell_type": "code",
   "execution_count": 17,
   "metadata": {},
   "outputs": [
    {
     "name": "stderr",
     "output_type": "stream",
     "text": [
      "OllamaEmbeddings:   0%|          | 0/1 [00:00<?, ?it/s]"
     ]
    },
    {
     "name": "stderr",
     "output_type": "stream",
     "text": [
      "OllamaEmbeddings: 100%|██████████| 1/1 [00:02<00:00,  2.19s/it]\n"
     ]
    },
    {
     "data": {
      "text/plain": [
       "'Student council is a group of students who are elected by their peers to represent the student body and work together to improve the university experience for all students. The student council typically consists of various positions, including President, Vice-President, General Secretary, Treasurer, and Wing Leaders.\\n\\nThe main responsibility of the student council is to listen to the concerns and ideas of students, and then work with other university departments and administrators to address those concerns and make positive changes. This can include organizing events, planning activities, and advocating for policy changes that benefit students.\\n\\nIn addition to these responsibilities, some student councils may also have specific goals or focus areas, such as promoting diversity and inclusion, supporting student mental health, or enhancing campus sustainability.\\n\\nOverall, the student council plays a crucial role in bringing together students from different backgrounds and disciplines, providing a platform for their voices to be heard, and working together to create a positive and supportive university community.'"
      ]
     },
     "execution_count": 17,
     "metadata": {},
     "output_type": "execute_result"
    }
   ],
   "source": [
    "rag_chain.invoke({\"question\": \"what is student council?\"})"
   ]
  }
 ],
 "metadata": {
  "kernelspec": {
   "display_name": "Python 3",
   "language": "python",
   "name": "python3"
  },
  "language_info": {
   "codemirror_mode": {
    "name": "ipython",
    "version": 3
   },
   "file_extension": ".py",
   "mimetype": "text/x-python",
   "name": "python",
   "nbconvert_exporter": "python",
   "pygments_lexer": "ipython3",
   "version": "3.11.9"
  }
 },
 "nbformat": 4,
 "nbformat_minor": 2
}
