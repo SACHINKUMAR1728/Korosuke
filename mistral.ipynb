{
 "cells": [
  {
   "cell_type": "code",
   "execution_count": 13,
   "metadata": {},
   "outputs": [
    {
     "name": "stderr",
     "output_type": "stream",
     "text": [
      "C:\\Users\\Sachin\\AppData\\Local\\Packages\\PythonSoftwareFoundation.Python.3.11_qbz5n2kfra8p0\\LocalCache\\local-packages\\Python311\\site-packages\\langchain_mistralai\\embeddings.py:105: UserWarning: Could not download mistral tokenizer from Huggingface for calculating batch sizes. Set a Huggingface token via the HF_TOKEN environment variable to download the real tokenizer. Falling back to a dummy tokenizer that uses `len()`.\n",
      "  warnings.warn(\n"
     ]
    }
   ],
   "source": [
    "from langchain_community.document_loaders import TextLoader\n",
    "from langchain_mistralai.chat_models import ChatMistralAI\n",
    "from langchain_mistralai.embeddings import MistralAIEmbeddings\n",
    "from langchain_community.vectorstores import FAISS\n",
    "from langchain.text_splitter import RecursiveCharacterTextSplitter\n",
    "from langchain.chains.combine_documents import create_stuff_documents_chain\n",
    "from langchain_core.prompts import ChatPromptTemplate\n",
    "from langchain.chains import create_retrieval_chain\n",
    "from langchain_community.document_loaders import PyPDFDirectoryLoader\n",
    "from langchain_community.vectorstores import Chroma\n",
    "loader = PyPDFDirectoryLoader('data/')\n",
    "\n",
    "\n",
    "# Load data\n",
    "# loader = TextLoader(\"essay.txt\")\n",
    "docs = loader.load()\n",
    "# Split text into chunks \n",
    "text_splitter = RecursiveCharacterTextSplitter()\n",
    "documents = text_splitter.split_documents(docs)\n",
    "# Define the embedding model\n",
    "embeddings = MistralAIEmbeddings(model=\"mistral-embed\", mistral_api_key='NkdaRJYl9NdnuP1dkDFe2pjZTSaByqYj')\n",
    "# Create the vector store \n",
    "vector = Chroma.from_documents(documents, embeddings)\n",
    "# Define a retriever interface\n",
    "retriever = vector.as_retriever()\n",
    "# Define LLM\n",
    "# NkdaRJYl9NdnuP1dkDFe2pjZTSaByqYj\n",
    "# Ue3X5zAtKR5IPVBXts7mJTo7RM6pgeic\n",
    "model = ChatMistralAI(mistral_api_key='NkdaRJYl9NdnuP1dkDFe2pjZTSaByqYj')\n",
    "# Define prompt template\n",
    "prompt = ChatPromptTemplate.from_template(\"\"\"Answer the following question based only on the provided context:\n",
    "\n",
    "<context>\n",
    "{context}\n",
    "</context>\n",
    "\n",
    "Question: {input}\"\"\")\n",
    "\n",
    "# Create a retrieval chain to answer questions\n",
    "document_chain = create_stuff_documents_chain(model, prompt)\n",
    "retrieval_chain = create_retrieval_chain(retriever, document_chain)\n",
    "# response = retrieval_chain.invoke({\"input\": \"what is student council?\"})\n",
    "# print(response[\"answer\"])"
   ]
  },
  {
   "cell_type": "code",
   "execution_count": 10,
   "metadata": {},
   "outputs": [
    {
     "name": "stdout",
     "output_type": "stream",
     "text": [
      "Based on the provided context, the positions in the student council are:\n",
      "\n",
      "1. President (3rd/4th Year)\n",
      "2. Vice-President (2nd -4th Years)\n",
      "3. General Secretary (2nd -4th Years)\n",
      "4. Treasurer (2nd -4th Years)\n",
      "5. Wing Leaders (Conveners)\n",
      "\n",
      "Each position has specific responsibilities aimed at ensuring the smooth functioning of the student council, representing student concerns, and contributing to the betterment of the council, students, and the university as a whole.\n"
     ]
    }
   ],
   "source": [
    "response = retrieval_chain.invoke({\"input\": \"what positions are there in student council?\"})\n",
    "print(response[\"answer\"])"
   ]
  },
  {
   "cell_type": "code",
   "execution_count": 14,
   "metadata": {},
   "outputs": [
    {
     "name": "stdout",
     "output_type": "stream",
     "text": [
      "Based on the provided context, the wings in the student council have the following responsibilities:\n",
      "\n",
      "1. Public Relations:\n",
      "\t* Support in handling social media accounts of the council.\n",
      "\t* Gathering student body details of various colleges & universities to build relations.\n",
      "\t* Responsible for the promotion of events happening in university, gathering audience.\n",
      "\t* Responsible for collecting & sharing information on events happening in other colleges or universities nearby/online.\n",
      "\t* Invite Guests/Speakers when needed.\n",
      "\t* Reach out to sponsors.\n",
      "\t* Responsible for conducting Town Hall Sessions.\n",
      "\t* Collect & share student issues with the Department of Student Affairs for further action (Academic & Non-Academic).\n",
      "\t* Communicate information on the issues solved with the students.\n",
      "\t* Brainstorm new solutions for the issues that are hard or impossible to resolve.\n",
      "2. Events:\n",
      "\t* Responsible for planning events as scheduled.\n",
      "\t* Organize events to ensure the seamlessness and functionality of said event.\n",
      "\t* Coordinate with Guests/Speakers as needed.\n",
      "\t* Fix the prizes to be allocated.\n",
      "\t* Discuss with the clubs to plan activities for the events.\n",
      "\t* Update the counterpart wings.\n",
      "\t* Prepare the details and ideas for each event.\n",
      "\t* Maintain a group of anchors and coordinate with them for events.\n",
      "3. Writers Co.:\n",
      "\t* Responsible for all the write-ups required at any time for any work related to the council. (Mails, Flyers, Documentation needed for events, Social Media, etc)\n",
      "\t* Create Google Forms for council activities.\n",
      "\t* Stay in touch with the other Teams - Design & PR to help them accomplish written tasks.\n",
      "\t* Compose monthly or yearly reports on the events of the Student Council as and when required.\n",
      "4. Design:\n",
      "\t* Responsible for creating visual elements required for the council's events and public relations.\n",
      "\t* Create designs for social media, flyers, banners, and other promotional material.\n",
      "\t* Collaborate with the Writers Co. and Public Relations teams to ensure consistent branding and messaging.\n",
      "\t* Update the visual elements of the council's website and other digital platforms.\n",
      "\t* Create designs for event decorations, merchandise, and other physical materials.\n",
      "\t* Stay up-to-date with design trends and best practices.\n",
      "\n",
      "These wings work together to ensure the success of the student council's events, public relations efforts, and other initiatives.\n"
     ]
    }
   ],
   "source": [
    "response = retrieval_chain.invoke({\"input\": \"what  are wing responsibilities in student council?\"})\n",
    "print(response[\"answer\"])"
   ]
  },
  {
   "cell_type": "code",
   "execution_count": null,
   "metadata": {},
   "outputs": [],
   "source": []
  }
 ],
 "metadata": {
  "kernelspec": {
   "display_name": "Python 3",
   "language": "python",
   "name": "python3"
  },
  "language_info": {
   "codemirror_mode": {
    "name": "ipython",
    "version": 3
   },
   "file_extension": ".py",
   "mimetype": "text/x-python",
   "name": "python",
   "nbconvert_exporter": "python",
   "pygments_lexer": "ipython3",
   "version": "3.11.9"
  }
 },
 "nbformat": 4,
 "nbformat_minor": 2
}
